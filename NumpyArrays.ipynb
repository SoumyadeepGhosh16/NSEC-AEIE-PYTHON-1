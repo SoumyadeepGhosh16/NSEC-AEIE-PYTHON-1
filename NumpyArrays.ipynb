{
 "cells": [
  {
   "cell_type": "code",
   "execution_count": 5,
   "metadata": {},
   "outputs": [
    {
     "name": "stdout",
     "output_type": "stream",
     "text": [
      "[1 2 3 4 5 6]\n",
      "<class 'numpy.ndarray'>\n",
      "6\n"
     ]
    }
   ],
   "source": [
    "import numpy as np\n",
    "array_1=np.array([1,2,3,4,5,6])\n",
    "print(array_1)\n",
    "print(type(array_1))\n",
    "print(len(array_1))\n"
   ]
  },
  {
   "cell_type": "code",
   "execution_count": 9,
   "metadata": {},
   "outputs": [
    {
     "name": "stdout",
     "output_type": "stream",
     "text": [
      "Final Array =>  [1, 2, 3]\n",
      "Ascending Order =>  [1, 2, 3]\n",
      "Descending Order =>  [3, 2, 1] <class 'list'>\n",
      "[3 2 1] <class 'numpy.ndarray'>\n"
     ]
    }
   ],
   "source": [
    "import numpy as nsec\n",
    "class UserInputList:\n",
    "    def main():\n",
    "        array_1=[]\n",
    "        n=int(input(\"Enter the no. of array elements => \"))\n",
    "        for x in range(0,n):\n",
    "            y=int(input(\"Enter the array element -> \"))\n",
    "            array_1.append(y)\n",
    "        print(\"Final Array => \",array_1)\n",
    "        array_1.sort()\n",
    "        print(\"Ascending Order => \",array_1)\n",
    "        array_1.sort(reverse=True)\n",
    "        print(\"Descending Order => \",array_1,type(array_1))\n",
    "        array_1=nsec.array(array_1)\n",
    "        print(array_1,type(array_1))\n",
    "UserInputList.main()"
   ]
  },
  {
   "cell_type": "code",
   "execution_count": 20,
   "metadata": {},
   "outputs": [
    {
     "name": "stdout",
     "output_type": "stream",
     "text": [
      "[12 19 12 13 10 17 12 15 12 12]\n"
     ]
    }
   ],
   "source": [
    "import numpy as np\n",
    "import random\n",
    "xyz=np.random.randint(10,20,10)\n",
    "print(xyz)\n"
   ]
  },
  {
   "cell_type": "code",
   "execution_count": 29,
   "metadata": {},
   "outputs": [
    {
     "name": "stdout",
     "output_type": "stream",
     "text": [
      "1\n",
      "2\n",
      "3\n",
      "(2, 2, 3)\n",
      "20\n"
     ]
    }
   ],
   "source": [
    "import numpy as np\n",
    "array_1=np.array([1,2,3,4,5])\n",
    "array_2=np.array([[1,2,3],[4,5,6]])\n",
    "array_3=np.array([[[1,2,3],[4,5,6]],[[10,11,12],[18,19,20]]])\n",
    "print(array_1.ndim)\n",
    "print(array_2.ndim)\n",
    "print(array_3.ndim)\n",
    "z=np.shape(array_3)\n",
    "print(z)\n",
    "print(array_3[1,1,2])\n",
    "\n"
   ]
  }
 ],
 "metadata": {
  "kernelspec": {
   "display_name": "base",
   "language": "python",
   "name": "python3"
  },
  "language_info": {
   "codemirror_mode": {
    "name": "ipython",
    "version": 3
   },
   "file_extension": ".py",
   "mimetype": "text/x-python",
   "name": "python",
   "nbconvert_exporter": "python",
   "pygments_lexer": "ipython3",
   "version": "3.9.13"
  },
  "orig_nbformat": 4
 },
 "nbformat": 4,
 "nbformat_minor": 2
}
